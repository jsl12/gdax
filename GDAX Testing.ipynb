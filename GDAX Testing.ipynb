{
 "cells": [
  {
   "cell_type": "markdown",
   "metadata": {},
   "source": [
    "### Imports"
   ]
  },
  {
   "cell_type": "code",
   "execution_count": 1,
   "metadata": {},
   "outputs": [],
   "source": [
    "%matplotlib inline\n",
    "import gdax\n",
    "from api_key import *\n",
    "import pandas as pd\n",
    "import matplotlib.pyplot as plt\n",
    "import matplotlib.dates as mdates\n",
    "from datetime import datetime, timedelta\n",
    "import time\n",
    "from pprint import pprint"
   ]
  },
  {
   "cell_type": "markdown",
   "metadata": {},
   "source": [
    "### Function Definitions"
   ]
  },
  {
   "cell_type": "code",
   "execution_count": 2,
   "metadata": {},
   "outputs": [],
   "source": [
    "from gdax_helpers import *"
   ]
  },
  {
   "cell_type": "markdown",
   "metadata": {},
   "source": [
    "### Login to GDAX"
   ]
  },
  {
   "cell_type": "code",
   "execution_count": 3,
   "metadata": {},
   "outputs": [],
   "source": [
    "auth_client = gdax.AuthenticatedClient(KEY,\n",
    "                                       B64SECRET,\n",
    "                                       PASSPHRASE)"
   ]
  },
  {
   "cell_type": "markdown",
   "metadata": {},
   "source": [
    "### Get Account Balances"
   ]
  },
  {
   "cell_type": "code",
   "execution_count": 4,
   "metadata": {},
   "outputs": [
    {
     "data": {
      "text/html": [
       "<div>\n",
       "<style>\n",
       "    .dataframe thead tr:only-child th {\n",
       "        text-align: right;\n",
       "    }\n",
       "\n",
       "    .dataframe thead th {\n",
       "        text-align: left;\n",
       "    }\n",
       "\n",
       "    .dataframe tbody tr th {\n",
       "        vertical-align: top;\n",
       "    }\n",
       "</style>\n",
       "<table border=\"1\" class=\"dataframe\">\n",
       "  <thead>\n",
       "    <tr style=\"text-align: right;\">\n",
       "      <th></th>\n",
       "      <th>available</th>\n",
       "      <th>balance</th>\n",
       "      <th>hold</th>\n",
       "      <th>id</th>\n",
       "      <th>profile_id</th>\n",
       "    </tr>\n",
       "    <tr>\n",
       "      <th>currency</th>\n",
       "      <th></th>\n",
       "      <th></th>\n",
       "      <th></th>\n",
       "      <th></th>\n",
       "      <th></th>\n",
       "    </tr>\n",
       "  </thead>\n",
       "  <tbody>\n",
       "    <tr>\n",
       "      <th>USD</th>\n",
       "      <td>0.100056</td>\n",
       "      <td>130.500056</td>\n",
       "      <td>130.4</td>\n",
       "      <td>b515a01b-0a24-41bb-b78f-665816215046</td>\n",
       "      <td>149da018-97df-4526-be06-c6c49a48841f</td>\n",
       "    </tr>\n",
       "    <tr>\n",
       "      <th>BTC</th>\n",
       "      <td>0.005663</td>\n",
       "      <td>0.005663</td>\n",
       "      <td>0.0</td>\n",
       "      <td>b5750698-0078-4370-a169-7451e424b11a</td>\n",
       "      <td>149da018-97df-4526-be06-c6c49a48841f</td>\n",
       "    </tr>\n",
       "    <tr>\n",
       "      <th>LTC</th>\n",
       "      <td>0.000000</td>\n",
       "      <td>0.000000</td>\n",
       "      <td>0.0</td>\n",
       "      <td>819c8e13-2031-402c-af46-90cdfe4dad57</td>\n",
       "      <td>149da018-97df-4526-be06-c6c49a48841f</td>\n",
       "    </tr>\n",
       "    <tr>\n",
       "      <th>ETH</th>\n",
       "      <td>0.125000</td>\n",
       "      <td>0.125000</td>\n",
       "      <td>0.0</td>\n",
       "      <td>97212e94-3f21-48fd-a9dd-f88a8dfbde83</td>\n",
       "      <td>149da018-97df-4526-be06-c6c49a48841f</td>\n",
       "    </tr>\n",
       "    <tr>\n",
       "      <th>BCH</th>\n",
       "      <td>0.000000</td>\n",
       "      <td>0.000000</td>\n",
       "      <td>0.0</td>\n",
       "      <td>3cd75c2b-8e42-4c35-b741-59f211c06ed9</td>\n",
       "      <td>149da018-97df-4526-be06-c6c49a48841f</td>\n",
       "    </tr>\n",
       "  </tbody>\n",
       "</table>\n",
       "</div>"
      ],
      "text/plain": [
       "          available     balance   hold                                    id  \\\n",
       "currency                                                                       \n",
       "USD        0.100056  130.500056  130.4  b515a01b-0a24-41bb-b78f-665816215046   \n",
       "BTC        0.005663    0.005663    0.0  b5750698-0078-4370-a169-7451e424b11a   \n",
       "LTC        0.000000    0.000000    0.0  819c8e13-2031-402c-af46-90cdfe4dad57   \n",
       "ETH        0.125000    0.125000    0.0  97212e94-3f21-48fd-a9dd-f88a8dfbde83   \n",
       "BCH        0.000000    0.000000    0.0  3cd75c2b-8e42-4c35-b741-59f211c06ed9   \n",
       "\n",
       "                                    profile_id  \n",
       "currency                                        \n",
       "USD       149da018-97df-4526-be06-c6c49a48841f  \n",
       "BTC       149da018-97df-4526-be06-c6c49a48841f  \n",
       "LTC       149da018-97df-4526-be06-c6c49a48841f  \n",
       "ETH       149da018-97df-4526-be06-c6c49a48841f  \n",
       "BCH       149da018-97df-4526-be06-c6c49a48841f  "
      ]
     },
     "execution_count": 4,
     "metadata": {},
     "output_type": "execute_result"
    }
   ],
   "source": [
    "dfacc = get_account_df(auth_client)\n",
    "dfacc"
   ]
  },
  {
   "cell_type": "markdown",
   "metadata": {},
   "source": [
    "### Get account histories"
   ]
  },
  {
   "cell_type": "code",
   "execution_count": 5,
   "metadata": {},
   "outputs": [
    {
     "data": {
      "text/html": [
       "<div>\n",
       "<style>\n",
       "    .dataframe thead tr:only-child th {\n",
       "        text-align: right;\n",
       "    }\n",
       "\n",
       "    .dataframe thead th {\n",
       "        text-align: left;\n",
       "    }\n",
       "\n",
       "    .dataframe tbody tr th {\n",
       "        vertical-align: top;\n",
       "    }\n",
       "</style>\n",
       "<table border=\"1\" class=\"dataframe\">\n",
       "  <thead>\n",
       "    <tr style=\"text-align: right;\">\n",
       "      <th></th>\n",
       "      <th></th>\n",
       "      <th>amount</th>\n",
       "      <th>balance</th>\n",
       "      <th>id</th>\n",
       "      <th>type</th>\n",
       "      <th>order_id</th>\n",
       "      <th>product_id</th>\n",
       "      <th>trade_id</th>\n",
       "      <th>transfer_id</th>\n",
       "      <th>transfer_type</th>\n",
       "    </tr>\n",
       "    <tr>\n",
       "      <th></th>\n",
       "      <th>created_at</th>\n",
       "      <th></th>\n",
       "      <th></th>\n",
       "      <th></th>\n",
       "      <th></th>\n",
       "      <th></th>\n",
       "      <th></th>\n",
       "      <th></th>\n",
       "      <th></th>\n",
       "      <th></th>\n",
       "    </tr>\n",
       "  </thead>\n",
       "  <tbody>\n",
       "    <tr>\n",
       "      <th rowspan=\"6\" valign=\"top\">USD</th>\n",
       "      <th>2017-12-29 19:55:45.332484</th>\n",
       "      <td>130.000000</td>\n",
       "      <td>130.500056</td>\n",
       "      <td>593771642</td>\n",
       "      <td>transfer</td>\n",
       "      <td>NaN</td>\n",
       "      <td>NaN</td>\n",
       "      <td>NaN</td>\n",
       "      <td>3a693eb3-795b-48ce-b4f2-b524e70cb860</td>\n",
       "      <td>deposit</td>\n",
       "    </tr>\n",
       "    <tr>\n",
       "      <th>2017-12-20 00:14:53.193794</th>\n",
       "      <td>-100.000000</td>\n",
       "      <td>0.500056</td>\n",
       "      <td>542846699</td>\n",
       "      <td>match</td>\n",
       "      <td>e51fee2c-48ff-4c31-b20d-4a917c887cfd</td>\n",
       "      <td>ETH-USD</td>\n",
       "      <td>22481382</td>\n",
       "      <td>NaN</td>\n",
       "      <td>NaN</td>\n",
       "    </tr>\n",
       "    <tr>\n",
       "      <th>2017-12-19 22:37:14.513654</th>\n",
       "      <td>-0.248130</td>\n",
       "      <td>100.500056</td>\n",
       "      <td>542506285</td>\n",
       "      <td>fee</td>\n",
       "      <td>d5b23cab-4414-48ee-9d2d-4d3c599e14fc</td>\n",
       "      <td>BTC-USD</td>\n",
       "      <td>29043690</td>\n",
       "      <td>NaN</td>\n",
       "      <td>NaN</td>\n",
       "    </tr>\n",
       "    <tr>\n",
       "      <th>2017-12-19 22:37:14.513654</th>\n",
       "      <td>-99.251814</td>\n",
       "      <td>100.748186</td>\n",
       "      <td>542506283</td>\n",
       "      <td>match</td>\n",
       "      <td>d5b23cab-4414-48ee-9d2d-4d3c599e14fc</td>\n",
       "      <td>BTC-USD</td>\n",
       "      <td>29043690</td>\n",
       "      <td>NaN</td>\n",
       "      <td>NaN</td>\n",
       "    </tr>\n",
       "    <tr>\n",
       "      <th>2017-12-16 02:19:20.795840</th>\n",
       "      <td>100.000000</td>\n",
       "      <td>200.000000</td>\n",
       "      <td>518438320</td>\n",
       "      <td>transfer</td>\n",
       "      <td>NaN</td>\n",
       "      <td>NaN</td>\n",
       "      <td>NaN</td>\n",
       "      <td>01e81d9b-e2c2-49b7-aa3d-5bce23d37079</td>\n",
       "      <td>deposit</td>\n",
       "    </tr>\n",
       "    <tr>\n",
       "      <th>2017-12-15 19:10:11.993755</th>\n",
       "      <td>100.000000</td>\n",
       "      <td>100.000000</td>\n",
       "      <td>517409156</td>\n",
       "      <td>transfer</td>\n",
       "      <td>NaN</td>\n",
       "      <td>NaN</td>\n",
       "      <td>NaN</td>\n",
       "      <td>7edea862-99f4-4c39-93bb-e81c68c2e676</td>\n",
       "      <td>deposit</td>\n",
       "    </tr>\n",
       "    <tr>\n",
       "      <th>BTC</th>\n",
       "      <th>2017-12-19 22:37:14.513654</th>\n",
       "      <td>0.005663</td>\n",
       "      <td>0.005663</td>\n",
       "      <td>542506282</td>\n",
       "      <td>match</td>\n",
       "      <td>d5b23cab-4414-48ee-9d2d-4d3c599e14fc</td>\n",
       "      <td>BTC-USD</td>\n",
       "      <td>29043690</td>\n",
       "      <td>NaN</td>\n",
       "      <td>NaN</td>\n",
       "    </tr>\n",
       "    <tr>\n",
       "      <th>ETH</th>\n",
       "      <th>2017-12-20 00:14:53.193794</th>\n",
       "      <td>0.125000</td>\n",
       "      <td>0.125000</td>\n",
       "      <td>542846698</td>\n",
       "      <td>match</td>\n",
       "      <td>e51fee2c-48ff-4c31-b20d-4a917c887cfd</td>\n",
       "      <td>ETH-USD</td>\n",
       "      <td>22481382</td>\n",
       "      <td>NaN</td>\n",
       "      <td>NaN</td>\n",
       "    </tr>\n",
       "  </tbody>\n",
       "</table>\n",
       "</div>"
      ],
      "text/plain": [
       "                                    amount     balance         id      type  \\\n",
       "    created_at                                                                \n",
       "USD 2017-12-29 19:55:45.332484  130.000000  130.500056  593771642  transfer   \n",
       "    2017-12-20 00:14:53.193794 -100.000000    0.500056  542846699     match   \n",
       "    2017-12-19 22:37:14.513654   -0.248130  100.500056  542506285       fee   \n",
       "    2017-12-19 22:37:14.513654  -99.251814  100.748186  542506283     match   \n",
       "    2017-12-16 02:19:20.795840  100.000000  200.000000  518438320  transfer   \n",
       "    2017-12-15 19:10:11.993755  100.000000  100.000000  517409156  transfer   \n",
       "BTC 2017-12-19 22:37:14.513654    0.005663    0.005663  542506282     match   \n",
       "ETH 2017-12-20 00:14:53.193794    0.125000    0.125000  542846698     match   \n",
       "\n",
       "                                                            order_id  \\\n",
       "    created_at                                                         \n",
       "USD 2017-12-29 19:55:45.332484                                   NaN   \n",
       "    2017-12-20 00:14:53.193794  e51fee2c-48ff-4c31-b20d-4a917c887cfd   \n",
       "    2017-12-19 22:37:14.513654  d5b23cab-4414-48ee-9d2d-4d3c599e14fc   \n",
       "    2017-12-19 22:37:14.513654  d5b23cab-4414-48ee-9d2d-4d3c599e14fc   \n",
       "    2017-12-16 02:19:20.795840                                   NaN   \n",
       "    2017-12-15 19:10:11.993755                                   NaN   \n",
       "BTC 2017-12-19 22:37:14.513654  d5b23cab-4414-48ee-9d2d-4d3c599e14fc   \n",
       "ETH 2017-12-20 00:14:53.193794  e51fee2c-48ff-4c31-b20d-4a917c887cfd   \n",
       "\n",
       "                               product_id  trade_id  \\\n",
       "    created_at                                        \n",
       "USD 2017-12-29 19:55:45.332484        NaN       NaN   \n",
       "    2017-12-20 00:14:53.193794    ETH-USD  22481382   \n",
       "    2017-12-19 22:37:14.513654    BTC-USD  29043690   \n",
       "    2017-12-19 22:37:14.513654    BTC-USD  29043690   \n",
       "    2017-12-16 02:19:20.795840        NaN       NaN   \n",
       "    2017-12-15 19:10:11.993755        NaN       NaN   \n",
       "BTC 2017-12-19 22:37:14.513654    BTC-USD  29043690   \n",
       "ETH 2017-12-20 00:14:53.193794    ETH-USD  22481382   \n",
       "\n",
       "                                                         transfer_id  \\\n",
       "    created_at                                                         \n",
       "USD 2017-12-29 19:55:45.332484  3a693eb3-795b-48ce-b4f2-b524e70cb860   \n",
       "    2017-12-20 00:14:53.193794                                   NaN   \n",
       "    2017-12-19 22:37:14.513654                                   NaN   \n",
       "    2017-12-19 22:37:14.513654                                   NaN   \n",
       "    2017-12-16 02:19:20.795840  01e81d9b-e2c2-49b7-aa3d-5bce23d37079   \n",
       "    2017-12-15 19:10:11.993755  7edea862-99f4-4c39-93bb-e81c68c2e676   \n",
       "BTC 2017-12-19 22:37:14.513654                                   NaN   \n",
       "ETH 2017-12-20 00:14:53.193794                                   NaN   \n",
       "\n",
       "                               transfer_type  \n",
       "    created_at                                \n",
       "USD 2017-12-29 19:55:45.332484       deposit  \n",
       "    2017-12-20 00:14:53.193794           NaN  \n",
       "    2017-12-19 22:37:14.513654           NaN  \n",
       "    2017-12-19 22:37:14.513654           NaN  \n",
       "    2017-12-16 02:19:20.795840       deposit  \n",
       "    2017-12-15 19:10:11.993755       deposit  \n",
       "BTC 2017-12-19 22:37:14.513654           NaN  \n",
       "ETH 2017-12-20 00:14:53.193794           NaN  "
      ]
     },
     "execution_count": 5,
     "metadata": {},
     "output_type": "execute_result"
    }
   ],
   "source": [
    "dfhist = get_history_df(auth_client, dfacc)\n",
    "dfhist"
   ]
  },
  {
   "cell_type": "markdown",
   "metadata": {},
   "source": [
    "### Get portfolio performance"
   ]
  },
  {
   "cell_type": "code",
   "execution_count": 6,
   "metadata": {},
   "outputs": [
    {
     "name": "stdout",
     "output_type": "stream",
     "text": [
      "ETH-USD Starting 2017-12-20 00:14:53.193794\n",
      "found ETH-USD data\n",
      "from 2017-07-05 18:00:00\n",
      "to   2018-01-07 10:00:00\n",
      "Filling from\n",
      "2018-01-07 10:00:00\n",
      "to\n",
      "2018-01-07 17:00:00\n",
      "storing ETH-USD in prices.h5\n",
      "BTC-USD Starting 2017-12-19 22:37:14.513654\n",
      "found BTC-USD data\n",
      "from 2017-01-01 17:00:00\n",
      "to   2018-01-07 10:00:00\n",
      "Filling from\n",
      "2018-01-07 10:00:00\n",
      "to\n",
      "2018-01-07 17:00:00\n",
      "storing BTC-USD in prices.h5\n"
     ]
    }
   ],
   "source": [
    "prin_hist, port_hist = get_portfolio_history(auth_client)"
   ]
  },
  {
   "cell_type": "code",
   "execution_count": 9,
   "metadata": {},
   "outputs": [
    {
     "data": {
      "text/plain": [
       "Text(0.5,1,'Portfolio Gain')"
      ]
     },
     "execution_count": 9,
     "metadata": {},
     "output_type": "execute_result"
    },
    {
     "data": {
      "image/png": "[encoded data removed]",
      "text/plain": [
       "<matplotlib.figure.Figure at 0x9171bb0>"
      ]
     },
     "metadata": {},
     "output_type": "display_data"
    }
   ],
   "source": [
    "fig, ax = plt.subplots(figsize=(16, 9))\n",
    "ax.grid(True)\n",
    "ax.plot(port_hist['close'])\n",
    "ax.plot(prin_hist)\n",
    "ax.xaxis.set_major_formatter(mdates.DateFormatter('%m/%d'))\n",
    "ax.legend(['Portfolio', 'Principal'])\n",
    "ax.set_title('Portfolio Gain')\n",
    "# ax.set_ylim(0, 300)"
   ]
  },
  {
   "cell_type": "markdown",
   "metadata": {},
   "source": [
    "### Scratch"
   ]
  }
 ],
 "metadata": {
  "kernelspec": {
   "display_name": "Python 3",
   "language": "python",
   "name": "python3"
  },
  "language_info": {
   "codemirror_mode": {
    "name": "ipython",
    "version": 3
   },
   "file_extension": ".py",
   "mimetype": "text/x-python",
   "name": "python",
   "nbconvert_exporter": "python",
   "pygments_lexer": "ipython3",
   "version": "3.6.0"
  }
 },
 "nbformat": 4,
 "nbformat_minor": 2
}
