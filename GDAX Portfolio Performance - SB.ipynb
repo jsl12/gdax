{
 "cells": [
  {
   "cell_type": "code",
   "execution_count": null,
   "metadata": {},
   "outputs": [],
   "source": [
    "from IPython.core.display import display, HTML\n",
    "display(HTML('''\n",
    "<style>.container { width:85% !important; }</style>\n",
    "<script>\n",
    "  function code_toggle() {\n",
    "    if (code_shown){\n",
    "      $('div.input').hide('500');\n",
    "      $('#toggleButton').val('Show Code')\n",
    "    } else {\n",
    "      $('div.input').show('500');\n",
    "      $('#toggleButton').val('Hide Code')\n",
    "    }\n",
    "    code_shown = !code_shown\n",
    "  }\n",
    "\n",
    "  $( document ).ready(function(){\n",
    "    code_shown=false;\n",
    "    $('div.input').hide()\n",
    "  });\n",
    "</script>\n",
    "<form action=\"javascript:code_toggle()\"><input type=\"submit\" id=\"toggleButton\" value=\"Show Code\"></form>\n",
    "'''))"
   ]
  },
  {
   "cell_type": "code",
   "execution_count": null,
   "metadata": {},
   "outputs": [],
   "source": [
    "%matplotlib inline\n",
    "import matplotlib.pyplot as plt\n",
    "import matplotlib.dates as mdates\n",
    "from matplotlib import rcParams as rc\n",
    "from pprint import pprint\n",
    "from gdax_helpers import *\n",
    "from api_key_sb import *"
   ]
  },
  {
   "cell_type": "code",
   "execution_count": null,
   "metadata": {},
   "outputs": [],
   "source": [
    "client = gdax.AuthenticatedClient(KEY,\n",
    "                                       B64SECRET,\n",
    "                                       PASSPHRASE)\n",
    "dfhist = get_history_df(client, get_account_df(client))\n",
    "res = get_portfolio_history(client, dfhist)"
   ]
  },
  {
   "cell_type": "code",
   "execution_count": null,
   "metadata": {},
   "outputs": [],
   "source": [
    "rc.update({'font.size': 18})\n",
    "size=(23,13)"
   ]
  },
  {
   "cell_type": "markdown",
   "metadata": {},
   "source": [
    "# Principal Graph"
   ]
  },
  {
   "cell_type": "code",
   "execution_count": null,
   "metadata": {
    "scrolled": false
   },
   "outputs": [],
   "source": [
    "y1 = res['principal']['principal']\n",
    "y2 = res['total']['close']\n",
    "x = y1.index.to_pydatetime()\n",
    "\n",
    "fig, ax = plt.subplots(figsize=size)\n",
    "ax.grid(True)\n",
    "ax.plot(x, y1)\n",
    "ax.plot(x, y2, 'k')\n",
    "ax.xaxis.set_major_formatter(mdates.DateFormatter('%m/%d'))\n",
    "ax.legend(['Principal', 'Portfolio'], loc='lower right')\n",
    "ax.set_title('Portfolio Gain')\n",
    "ax.set_ylim(0, ax.get_ylim()[1] + 100)\n",
    "ax.set_ylabel('Total Value [$]')\n",
    "\n",
    "ax.fill_between(\n",
    "    x=x,\n",
    "    y1=y1.values,\n",
    "    y2=y2.values,\n",
    "    where=y2.values <= y1.values,\n",
    "    facecolor='red'\n",
    ")\n",
    "\n",
    "ax.fill_between(\n",
    "    x=x,\n",
    "    y1=y1.values,\n",
    "    y2=y2.values,\n",
    "    where=y2.values >= y1.values,\n",
    "    facecolor='green'\n",
    ")\n",
    "\n",
    "val = y2.subtract(y1, axis=0).max()\n",
    "i = y2[y2.subtract(y1, axis=0) == val].index[0]\n",
    "ax.annotate('${:.2f}\\n{}'.format(y2.loc[i],\n",
    "                                 i.strftime('%m/%d %H:%M')),\n",
    "            xy=(i, y2.loc[i]),\n",
    "            xycoords='data',\n",
    "            xytext=(-150, 35),\n",
    "            textcoords='offset points',\n",
    "            arrowprops=dict(arrowstyle='->'))\n",
    "\n",
    "val = y2.subtract(y1, axis=0).min()\n",
    "i = y2[y2.subtract(y1, axis=0) == val].index[0]\n",
    "ax.annotate('${:.2f}\\n{}'.format(y2.loc[i],\n",
    "                                 i.strftime('%m/%d %H:%M')),\n",
    "            xy=(i, y2.loc[i]),\n",
    "            xycoords='data',\n",
    "            xytext=(50, -30),\n",
    "            textcoords='offset points',\n",
    "            arrowprops=dict(arrowstyle='->'))\n",
    "\n",
    "for i, row in dfhist.drop('USD', level=0).iterrows():\n",
    "    x = i[1]\n",
    "    y = y1[y1.index > x]\n",
    "    y = y[0] / ax.get_ylim()[1]\n",
    "    ax.axvline(x, ymax=y)"
   ]
  },
  {
   "cell_type": "code",
   "execution_count": null,
   "metadata": {},
   "outputs": [],
   "source": [
    "y1 = res['principal']['principal']\n",
    "y2 = res['total']['close']\n",
    "y3 = res['ETH-USD']['close']\n",
    "y4 = res['BTC-USD']['close']\n",
    "y5 = res['LTC-USD']['close']\n",
    "x = y1.index.to_pydatetime()\n",
    "\n",
    "fig, ax = plt.subplots(figsize=size)\n",
    "ax.grid(True)\n",
    "ax.plot(x, y1)\n",
    "ax.plot(x, y2)\n",
    "ax.plot(x, y3)\n",
    "ax.plot(x, y4)\n",
    "ax.plot(x, y5)\n",
    "ax.xaxis.set_major_formatter(mdates.DateFormatter('%m/%d'))\n",
    "ax.legend(['Principal', 'Total', 'ETH', 'BTC', 'LTC'], loc='upper left')\n",
    "ax.set_title('Portfolio Gain')\n",
    "ax.set_ylim(0, ax.get_ylim()[1] + 100)\n",
    "ax.set_ylabel('Total Value [$]')"
   ]
  },
  {
   "cell_type": "markdown",
   "metadata": {},
   "source": [
    "# Portfolio Rate"
   ]
  },
  {
   "cell_type": "code",
   "execution_count": null,
   "metadata": {},
   "outputs": [],
   "source": [
    "data = res['total']['close'].divide(res['principal']['principal'], axis=0) - 1\n",
    "data *= 100\n",
    "fig, ax = plt.subplots(figsize=size)\n",
    "ax.grid(True)\n",
    "ax.plot(data.index.to_pydatetime(), data.values)\n",
    "ax.xaxis.set_major_formatter(mdates.DateFormatter('%m/%d'))\n",
    "ax.set_title('Portfolio Gain')\n",
    "ax.set_ylabel('Return [%]')\n",
    "\n",
    "y1 = data.values\n",
    "y2 = np.full((len(data.values)), 0)\n",
    "ax.fill_between(\n",
    "    x=data.index,\n",
    "    y1=y1,\n",
    "    y2=y2,\n",
    "    where=y2 <= y1,\n",
    "    facecolor='green'\n",
    ")\n",
    "\n",
    "ax.fill_between(\n",
    "    x=data.index,\n",
    "    y1=y1,\n",
    "    y2=y2,\n",
    "    where=y2 >= y1,\n",
    "    facecolor='red'\n",
    ")\n",
    "\n",
    "ax.annotate('{:.2f}%\\n{}'.format(data.max(),\n",
    "                                 data[data == data.max()].index[0].strftime('%m/%d %H:%M')),\n",
    "            xy=(data[data == data.max()].index[0], data.max()),\n",
    "            xycoords='data',\n",
    "            xytext=(-150, -20),\n",
    "            textcoords='offset points',\n",
    "            arrowprops=dict(arrowstyle='->'))\n",
    "\n",
    "ax.annotate('{:.2f}%\\n{}'.format(data.min(),\n",
    "                                 data[data == data.min()].index[0].strftime('%m/%d %H:%M')),\n",
    "            xy=(data[data == data.min()].index[0], data.min()),\n",
    "            xycoords='data',\n",
    "            xytext=(50, 10),\n",
    "            textcoords='offset points',\n",
    "            arrowprops=dict(arrowstyle='->'))"
   ]
  },
  {
   "cell_type": "markdown",
   "metadata": {},
   "source": [
    "# Portfolio Gain"
   ]
  },
  {
   "cell_type": "code",
   "execution_count": null,
   "metadata": {
    "scrolled": false
   },
   "outputs": [],
   "source": [
    "data = res['total']['close'].subtract(res['principal']['principal'], axis=0)\n",
    "fig, ax = plt.subplots(figsize=size)\n",
    "ax.grid(True)\n",
    "ax.plot(data.index.to_pydatetime(), data.values)\n",
    "ax.xaxis.set_major_formatter(mdates.DateFormatter('%m/%d'))\n",
    "ax.set_title('Portfolio Gain')\n",
    "# ax.set_ylim(-100, 100)\n",
    "ax.set_ylabel('Return [$]')\n",
    "y1 = data.values\n",
    "y2 = np.full((len(data.values)), 0)\n",
    "ax.fill_between(\n",
    "    x=data.index,\n",
    "    y1=y1,\n",
    "    y2=y2,\n",
    "    where=y2 <= y1,\n",
    "    facecolor='green'\n",
    ")\n",
    "\n",
    "ax.fill_between(\n",
    "    x=data.index,\n",
    "    y1=y1,\n",
    "    y2=y2,\n",
    "    where=y2 >= y1,\n",
    "    facecolor='red'\n",
    ")\n",
    "\n",
    "\n",
    "ax.annotate('${:.2f}\\n{}'.format(data.max(),\n",
    "                                 data[data == data.max()].index[0].strftime('%m/%d %H:%M')),\n",
    "            xy=(data[data == data.max()].index[0], data.max()),\n",
    "            xycoords='data',\n",
    "            xytext=(-150, -20),\n",
    "            textcoords='offset points',\n",
    "            arrowprops=dict(arrowstyle='->'))\n",
    "\n",
    "ax.annotate('${:.2f}\\n{}'.format(data.min(),\n",
    "                             data[data == data.min()].index[0].strftime('%m/%d %H:%M')),\n",
    "            xy=(data[data == data.min()].index[0], data.min()),\n",
    "            xycoords='data',\n",
    "            xytext=(50, -10),\n",
    "            textcoords='offset points',\n",
    "            arrowprops=dict(arrowstyle='->'))"
   ]
  },
  {
   "cell_type": "code",
   "execution_count": null,
   "metadata": {},
   "outputs": [],
   "source": []
  }
 ],
 "metadata": {
  "kernelspec": {
   "display_name": "Python 3",
   "language": "python",
   "name": "python3"
  },
  "language_info": {
   "codemirror_mode": {
    "name": "ipython",
    "version": 3
   },
   "file_extension": ".py",
   "mimetype": "text/x-python",
   "name": "python",
   "nbconvert_exporter": "python",
   "pygments_lexer": "ipython3",
   "version": "3.6.0"
  }
 },
 "nbformat": 4,
 "nbformat_minor": 2
}
