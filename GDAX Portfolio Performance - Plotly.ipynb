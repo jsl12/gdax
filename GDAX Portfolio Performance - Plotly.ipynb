{
 "cells": [
  {
   "cell_type": "code",
   "execution_count": null,
   "metadata": {},
   "outputs": [],
   "source": [
    "from IPython.core.display import display, HTML\n",
    "display(HTML('''\n",
    "<style>.container { width:85% !important; }</style>\n",
    "<script>\n",
    "  function code_toggle() {\n",
    "    if (code_shown){\n",
    "      $('div.input').hide('500');\n",
    "      $('#toggleButton').val('Show Code')\n",
    "    } else {\n",
    "      $('div.input').show('500');\n",
    "      $('#toggleButton').val('Hide Code')\n",
    "    }\n",
    "    code_shown = !code_shown\n",
    "  }\n",
    "\n",
    "  $( document ).ready(function(){\n",
    "    code_shown=false;\n",
    "    $('div.input').hide()\n",
    "  });\n",
    "</script>\n",
    "<form action=\"javascript:code_toggle()\"><input type=\"submit\" id=\"toggleButton\" value=\"Show Code\"></form>\n",
    "'''))"
   ]
  },
  {
   "cell_type": "code",
   "execution_count": null,
   "metadata": {},
   "outputs": [],
   "source": [
    "%matplotlib inline\n",
    "import matplotlib.pyplot as plt\n",
    "import matplotlib.dates as mdates\n",
    "from matplotlib import rcParams as rc\n",
    "from pprint import pprint\n",
    "from gdax_helpers import *\n",
    "from api_key import *\n",
    "import plotly\n",
    "from plotly.graph_objs import *\n",
    "import cufflinks\n",
    "plotly.offline.init_notebook_mode(connected=True)"
   ]
  },
  {
   "cell_type": "code",
   "execution_count": null,
   "metadata": {
    "scrolled": false
   },
   "outputs": [],
   "source": [
    "client = gdax.AuthenticatedClient(KEY,\n",
    "                                       B64SECRET,\n",
    "                                       PASSPHRASE)\n",
    "dfhist = get_history_df(client, get_account_df(client))\n",
    "port_hist = get_portfolio_history(client, dfhist)\n",
    "df = port_hist['Total']"
   ]
  },
  {
   "cell_type": "code",
   "execution_count": null,
   "metadata": {},
   "outputs": [],
   "source": [
    "port_hist.keys()"
   ]
  },
  {
   "cell_type": "code",
   "execution_count": null,
   "metadata": {},
   "outputs": [],
   "source": [
    "rc.update({'font.size': 18})\n",
    "size=(23,13)"
   ]
  },
  {
   "cell_type": "markdown",
   "metadata": {},
   "source": [
    "# Holdings History"
   ]
  },
  {
   "cell_type": "code",
   "execution_count": null,
   "metadata": {},
   "outputs": [],
   "source": [
    "res = {}\n",
    "for key in port_hist:\n",
    "    if key != 'Total' and key != 'USD':\n",
    "         res[key] = port_hist[key]['Balance']\n",
    "holdings = pd.DataFrame(res)\n",
    "holdings.head()\n",
    "data = holdings"
   ]
  },
  {
   "cell_type": "code",
   "execution_count": null,
   "metadata": {},
   "outputs": [],
   "source": [
    "combined = pd.concat([data, port_hist['USD']['Total']], axis=1)\n",
    "combined.columns"
   ]
  },
  {
   "cell_type": "code",
   "execution_count": null,
   "metadata": {},
   "outputs": [],
   "source": [
    "layout = Layout(showlegend=True, title='Portfolio Holdings', xaxis=dict(title='Date'), yaxis=dict(title='Balance'), yaxis2=dict(title='USD', side='right', overlaying='y'))\n",
    "figCoins = combined.iplot(asFigure=True, secondary_y=['Total'], kind='scatter', layout=layout)\n",
    "plotly.offline.iplot(figCoins)"
   ]
  },
  {
   "cell_type": "markdown",
   "metadata": {},
   "source": [
    "# Principal Graph"
   ]
  },
  {
   "cell_type": "code",
   "execution_count": null,
   "metadata": {},
   "outputs": [],
   "source": [
    "layout = Layout(showlegend=True, title='Principal and Values', xaxis=dict(title='Date'), yaxis=dict(title='USD'))\n",
    "fig = df.iplot(asFigure=True, kind='scatter', layout=layout)\n",
    "plotly.offline.iplot(fig)"
   ]
  },
  {
   "cell_type": "markdown",
   "metadata": {},
   "source": [
    "# Portfolio Rate"
   ]
  },
  {
   "cell_type": "code",
   "execution_count": null,
   "metadata": {},
   "outputs": [],
   "source": [
    "data = df['Total'].divide(df['Principal'], axis=0) - 1\n",
    "data *= 100\n",
    "layout = Layout(showlegend=True, title='Portfolio Gain', xaxis=dict(title='Date'), yaxis=dict(title='% Return'), )\n",
    "fig = data.iplot(asFigure=True, kind='scatter', layout=layout)\n",
    "plotly.offline.iplot(fig)"
   ]
  },
  {
   "cell_type": "code",
   "execution_count": null,
   "metadata": {},
   "outputs": [],
   "source": []
  }
 ],
 "metadata": {
  "kernelspec": {
   "display_name": "Python 3",
   "language": "python",
   "name": "python3"
  },
  "language_info": {
   "codemirror_mode": {
    "name": "ipython",
    "version": 3
   },
   "file_extension": ".py",
   "mimetype": "text/x-python",
   "name": "python",
   "nbconvert_exporter": "python",
   "pygments_lexer": "ipython3",
   "version": "3.6.1"
  }
 },
 "nbformat": 4,
 "nbformat_minor": 2
}
